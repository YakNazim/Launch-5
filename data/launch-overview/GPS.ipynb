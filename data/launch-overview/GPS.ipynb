{
 "cells": [
  {
   "cell_type": "markdown",
   "metadata": {},
   "source": [
    "# GPS\n",
    "\n",
    "The rocket has a Conexant Jupiter GPS, a 12-channel OEM receiver based on the Zodiac chipset. It was set to send 1 Hz binary data.\n",
    "\n",
    "## Altitude\n",
    "\n",
    "We can compare the GPS reported altitude to the IMU integration."
   ]
  },
  {
   "cell_type": "code",
   "execution_count": null,
   "metadata": {
    "collapsed": false
   },
   "outputs": [],
   "source": [
    "from numpy import loadtxt, array, subtract, divide, multiply, median, std, var, argmax, add, average\n",
    "import matplotlib.pyplot as plt\n",
    "%matplotlib inline\n",
    "from IPython.display import set_matplotlib_formats\n",
    "set_matplotlib_formats('png', 'pdf')\n",
    "\n",
    "\n",
    "time = []\n",
    "gps_h = []\n",
    "with open(\"../telemetry.csv\", 'r') as f_in:\n",
    "    for line, text in enumerate(f_in.readlines()):\n",
    "        if line > 1:\n",
    "            li = text.split(',')\n",
    "            try:\n",
    "                height = float(li[39])\n",
    "            except ValueError:\n",
    "                continue\n",
    "            time.append(float(li[0]))\n",
    "            gps_h.append(height)\n",
    "\n",
    "# Jump to the interesting part of the flight\n",
    "cuttoff = -75\n",
    "time = time[cuttoff:]\n",
    "gps_h = gps_h[cuttoff:]\n",
    "\n",
    "# set MET=0\n",
    "with open(\"launch-time.csv\", 'r') as fin:\n",
    "    liftoff = float(fin.read())\n",
    "time = subtract(time, liftoff)\n",
    "\n",
    "# units\n",
    "gps_h = divide(gps_h, 100.0) # meters\n",
    "gps_h = subtract(gps_h, 1390.0) # AGL"
   ]
  },
  {
   "cell_type": "code",
   "execution_count": null,
   "metadata": {
    "collapsed": false
   },
   "outputs": [],
   "source": [
    "columns = loadtxt(\"uncalibrated_integrated_altitude.csv\", delimiter=',', unpack=True)\n",
    "alt_time = columns[0]\n",
    "imualt   = columns[1]\n",
    "\n",
    "fig, ax1 = plt.subplots(figsize=(16,6))\n",
    "plt.title(r\"GPS Reported Height AGL\")\n",
    "plt.ylabel(r\"GPS Height AGL [km]\")\n",
    "plt.xlabel(r\"Mission Elapsed Time [s]\")\n",
    "plt.plot(alt_time, divide(imualt, 1000.0), 'k-', alpha=0.2, label=\"IMU Integrated Altitude\")\n",
    "plt.plot(time, divide(gps_h, 1000.0), alpha=0.75, label=\"GPS Height\")\n",
    "plt.xlim([-4,70])\n",
    "ax1.legend(loc=1)\n",
    "plt.show()"
   ]
  },
  {
   "cell_type": "markdown",
   "metadata": {},
   "source": [
    "There does appear to be a time lag for some reason between the two."
   ]
  },
  {
   "cell_type": "code",
   "execution_count": null,
   "metadata": {
    "collapsed": false
   },
   "outputs": [],
   "source": [
    "print \"\"\"The maximum GPS altitude recorded was %0.2f kilomters. (IMU: %0.2f km).\n",
    "Though there was some forcing in the IMU calibration to match this numer.\"\"\" % (max(gps_h)/1000.0, max(imualt)/1000.0)"
   ]
  },
  {
   "cell_type": "markdown",
   "metadata": {},
   "source": []
  }
 ],
 "metadata": {
  "kernelspec": {
   "display_name": "Python 2",
   "language": "python",
   "name": "python2"
  },
  "language_info": {
   "codemirror_mode": {
    "name": "ipython",
    "version": 2
   },
   "file_extension": ".py",
   "mimetype": "text/x-python",
   "name": "python",
   "nbconvert_exporter": "python",
   "pygments_lexer": "ipython2",
   "version": "2.7.10+"
  }
 },
 "nbformat": 4,
 "nbformat_minor": 0
}

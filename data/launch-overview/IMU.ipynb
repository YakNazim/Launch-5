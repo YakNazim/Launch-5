{
 "cells": [
  {
   "cell_type": "markdown",
   "metadata": {},
   "source": [
    "# IMU\n",
    "\n",
    "Acceleration data from the IMU."
   ]
  },
  {
   "cell_type": "code",
   "execution_count": null,
   "metadata": {
    "collapsed": false
   },
   "outputs": [],
   "source": [
    "from numpy import loadtxt, array, subtract, divide, multiply, median, std, var, argmax\n",
    "import matplotlib.pyplot as plt\n",
    "%matplotlib inline\n",
    "from IPython.display import set_matplotlib_formats\n",
    "set_matplotlib_formats('png', 'pdf')\n",
    "\n",
    "g_0 = 9.80665\n",
    "\n",
    "time = []\n",
    "acc_x = []\n",
    "acc_y = []\n",
    "acc_z = []\n",
    "with open(\"../telemetry.csv\", 'r') as f_in:\n",
    "    for line, text in enumerate(f_in.readlines()):\n",
    "        if line > 1:\n",
    "            li = text.split(',')\n",
    "            try:\n",
    "                a_x = float(li[3])\n",
    "                a_y = float(li[4])\n",
    "                a_z = float(li[5])\n",
    "            except ValueError:\n",
    "                continue\n",
    "            time.append(float(li[0]))\n",
    "            acc_x.append(a_x)\n",
    "            acc_y.append(a_y)\n",
    "            acc_z.append(a_z)\n",
    "\n",
    "cuttoff = -180000\n",
    "time = time[cuttoff:]\n",
    "acc_x = acc_y[cuttoff:]\n",
    "acc_y = acc_y[cuttoff:]\n",
    "acc_z = acc_y[cuttoff:]\n",
    "\n",
    "\n",
    "ystand = median(acc_y[:5000])\n",
    "yfreefall = median(acc_y[87500:91500])\n",
    "gain= ystand - yfreefall / 1.0\n",
    "acc_y = divide(subtract(acc_y, yfreefall), gain)\n",
    "\n",
    "liftoff_idx = argmax(acc_y[8000:9000])\n",
    "liftoff = time[8000+liftoff_idx]\n",
    "\n",
    "time = subtract(time, liftoff)"
   ]
  },
  {
   "cell_type": "code",
   "execution_count": null,
   "metadata": {
    "collapsed": true
   },
   "outputs": [],
   "source": [
    "# lightly lowpass\n",
    "from scipy.signal import butter, lfilter, freqz\n",
    "\n",
    "# Filter requirements.\n",
    "order = 6\n",
    "fs = 2500       # sample rate, Hz\n",
    "cutoff = 190   # desired cutoff frequency of the filter, Hz\n",
    "nyq = 0.5 * fs\n",
    "normal_cutoff = cutoff / nyq\n",
    "\n",
    "# Get the filter coefficients so we can check its frequency response.\n",
    "b, a = butter(order, normal_cutoff, btype='low', analog=False)\n",
    "acc_y_filter = lfilter(b, a, acc_y)"
   ]
  },
  {
   "cell_type": "code",
   "execution_count": null,
   "metadata": {
    "collapsed": false
   },
   "outputs": [],
   "source": [
    "ax = plt.figure(figsize=(16,6))\n",
    "plt.title(r\"IMU Vertical Acceleration\")\n",
    "plt.ylabel(r\"Measured Acceleration [m/s$^2$]\")\n",
    "plt.xlabel(r\"Mission Elapsed Time [s]\")\n",
    "plt.plot(time[1000:-1000], acc_y_filter[1000:-1000], alpha=0.7, lw=1.0)\n",
    "plt.xlim([-4,70])\n",
    "plt.show()"
   ]
  },
  {
   "cell_type": "markdown",
   "metadata": {},
   "source": []
  }
 ],
 "metadata": {
  "kernelspec": {
   "display_name": "Python 2",
   "language": "python",
   "name": "python2"
  },
  "language_info": {
   "codemirror_mode": {
    "name": "ipython",
    "version": 2
   },
   "file_extension": ".py",
   "mimetype": "text/x-python",
   "name": "python",
   "nbconvert_exporter": "python",
   "pygments_lexer": "ipython2",
   "version": "2.7.10+"
  }
 },
 "nbformat": 4,
 "nbformat_minor": 0
}

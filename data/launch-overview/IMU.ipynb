{
 "cells": [
  {
   "cell_type": "markdown",
   "metadata": {},
   "source": [
    "# IMU\n",
    "\n",
    "Our Inertial Measurement Unit (IMU) is a combination of accelerometers and gyroscopes in each direction $(x,y,z)$. We can use it to measure how much the rocket accelerates and how fast it rotates. This can also tell us about the speed and altitude of the rocket.\n",
    "\n",
    "\n",
    "## Acceleration\n",
    "\n",
    "We start off looking at the vertical component (in body frame) of the measured acceleration during the flight, the accelerometers in the $x$ and $y$ (sideways) direction. The raw accelerometers are quite noisy, passing through a decimation filter helps."
   ]
  },
  {
   "cell_type": "code",
   "execution_count": null,
   "metadata": {
    "collapsed": false
   },
   "outputs": [],
   "source": [
    "from numpy import loadtxt, array, subtract, divide, multiply, median, std, var, argmax, add, average\n",
    "import matplotlib.pyplot as plt\n",
    "%matplotlib inline\n",
    "from IPython.display import set_matplotlib_formats\n",
    "set_matplotlib_formats('png', 'pdf')\n",
    "\n",
    "g_0 = 9.80665\n",
    "\n",
    "time = []\n",
    "acc_x = []\n",
    "acc_y = []\n",
    "acc_z = []\n",
    "acc_q = []\n",
    "with open(\"../telemetry.csv\", 'r') as f_in:\n",
    "    for line, text in enumerate(f_in.readlines()):\n",
    "        if line > 1:\n",
    "            li = text.split(',')\n",
    "            try:\n",
    "                a_x = float(li[2])\n",
    "                a_y = float(li[3])\n",
    "                a_z = float(li[4])\n",
    "                a_q = float(li[5])\n",
    "            except ValueError:\n",
    "                continue\n",
    "            time.append(float(li[0]))\n",
    "            acc_x.append(a_x)\n",
    "            acc_y.append(a_y)\n",
    "            acc_z.append(a_z)\n",
    "            acc_q.append(a_q)\n",
    "\n",
    "# Jump to the interesting part of the flight\n",
    "cuttoff = -180000\n",
    "time = time[cuttoff:]\n",
    "acc_x = acc_x[cuttoff:]\n",
    "acc_y = acc_y[cuttoff:]\n",
    "acc_z = acc_z[cuttoff:]\n",
    "\n",
    "# Find the moment of liftoff, set MET=0\n",
    "liftoff = time[8000+argmax(acc_z[8000:9000])]\n",
    "time = subtract(time, liftoff)\n",
    "\n",
    "# decimation filter, also to get time resoultion\n",
    "last_t = time[0]\n",
    "last_break = 0\n",
    "acc_x_decimated = []\n",
    "acc_y_decimated = []\n",
    "acc_z_decimated = []\n",
    "acc_q_decimated = []\n",
    "time_decimated = []\n",
    "for i, t in enumerate(time):\n",
    "    if t != last_t:\n",
    "        acc_x_decimated.append(average(acc_x[last_break:i]))\n",
    "        acc_y_decimated.append(average(acc_y[last_break:i]))\n",
    "        acc_z_decimated.append(average(acc_z[last_break:i]))\n",
    "        acc_q_decimated.append(average(acc_q[last_break:i]))\n",
    "        time_decimated.append(t)\n",
    "        last_break = i;\n",
    "    last_t = t\n",
    "    \n",
    "acc_z_unfiltered = acc_z\n",
    "\n",
    "# Used esitmated gains and bias from http://psas.pdx.edu/DataAnalysis/\n",
    "acc_x = divide(subtract(acc_x_decimated, 2400.45), 392.80)\n",
    "acc_y = divide(subtract(acc_y_decimated, 2462.06), 386.90)\n",
    "z_zero = median(acc_z[:300])\n",
    "acc_z = divide(subtract(acc_z_decimated, z_zero),  -76.10)\n",
    "acc_z_unfiltered = divide(subtract(acc_z_unfiltered, z_zero),  -76.10)\n",
    "acc_q = divide(subtract(acc_q_decimated, 1907.53),  -75.40)"
   ]
  },
  {
   "cell_type": "code",
   "execution_count": null,
   "metadata": {
    "collapsed": false
   },
   "outputs": [],
   "source": [
    "fig, ax1 = plt.subplots(figsize=(16,6))\n",
    "plt.title(r\"IMU Vertical Acceleration\")\n",
    "plt.ylabel(r\"Measured Acceleration [g]\")\n",
    "plt.xlabel(r\"Mission Elapsed Time [s]\")\n",
    "plt.plot(time, add(acc_z_unfiltered, 1.0), 'k-', alpha=0.25, lw=0.4, label=\"Raw Accelerometer\")\n",
    "plt.plot(time_decimated, add(acc_z, 1.0), alpha=0.7, lw=1.0, label=\"Filtered Accelerometer\")\n",
    "plt.xlim([-4,70])\n",
    "ax1.legend(loc=1)\n",
    "plt.show()"
   ]
  },
  {
   "cell_type": "code",
   "execution_count": null,
   "metadata": {
    "collapsed": false
   },
   "outputs": [],
   "source": [
    "fig, ax1 = plt.subplots(figsize=(16,6))\n",
    "plt.title(r\"IMU Side Acceleration\")\n",
    "plt.ylabel(r\"Measured Acceleration [g]\")\n",
    "plt.xlabel(r\"Mission Elapsed Time [s]\")\n",
    "plt.plot([-300,-301], [9,9])\n",
    "plt.plot(time_decimated, acc_x, alpha=0.7, lw=0.7, label=\"X\")\n",
    "plt.plot(time_decimated, acc_y, alpha=0.7, lw=0.7, label=\"Y\")\n",
    "plt.xlim([-4,70])\n",
    "plt.ylim([-5,5])\n",
    "ax1.legend(loc=1)\n",
    "plt.show()"
   ]
  },
  {
   "cell_type": "markdown",
   "metadata": {},
   "source": [
    "## Velocity\n",
    "\n",
    "A single integration of the vertical acceleration will give approximate velocity. There will be some drift as the tiny errors in the IMU readings slowly add up over the integration."
   ]
  },
  {
   "cell_type": "code",
   "execution_count": null,
   "metadata": {
    "collapsed": false
   },
   "outputs": [],
   "source": [
    "from scipy.integrate import simps\n",
    "\n",
    "acc_ms = multiply(acc_z, g_0)\n",
    "velocity = [0]\n",
    "for i in range(len(acc_x)):\n",
    "    if(i > 0):\n",
    "        velocity.append(simps(acc_ms[:i], time_decimated[:i]))"
   ]
  },
  {
   "cell_type": "code",
   "execution_count": null,
   "metadata": {
    "collapsed": false
   },
   "outputs": [],
   "source": [
    "fig, ax1 = plt.subplots(figsize=(16,6))\n",
    "plt.title(r\"IMU Integrated Velocity\")\n",
    "plt.ylabel(r\"Velocity [m/s]\")\n",
    "plt.xlabel(r\"Mission Elapsed Time [s]\")\n",
    "plt.plot(time_decimated, velocity, alpha=0.7, label=\"Integrated Velocity\")\n",
    "plt.xlim([-4,70])\n",
    "#plt.ylim([-4,4])\n",
    "#ax1.legend(loc=1)\n",
    "plt.show()"
   ]
  },
  {
   "cell_type": "code",
   "execution_count": null,
   "metadata": {
    "collapsed": false
   },
   "outputs": [],
   "source": [
    "vpeak = max(velocity)\n",
    "print \"The peak velocity during the motor burn was %0.0f m/s (Mach %0.1f).\" % (vpeak, vpeak/330.0)"
   ]
  },
  {
   "cell_type": "markdown",
   "metadata": {},
   "source": [
    "## Altitude\n",
    "\n",
    "Further integrating the velocity numbers should get us altitude. Here we really see the IMU drift. After 70 seconds our guess of altitude is almost 2 kilometers off! (the rocket landed on the ground, not 2000 meters underground).\n",
    "\n",
    "Hopfully we can fix this with filters that take into acconut several sensors, like pressure and GPS fixes, in order to de-bias our IMU drift."
   ]
  },
  {
   "cell_type": "code",
   "execution_count": null,
   "metadata": {
    "collapsed": false
   },
   "outputs": [],
   "source": [
    "alt = [0]\n",
    "for i in range(len(velocity)):\n",
    "    if(i > 0):\n",
    "        alt.append(simps(velocity[:i], time_decimated[:i]))"
   ]
  },
  {
   "cell_type": "code",
   "execution_count": null,
   "metadata": {
    "collapsed": false
   },
   "outputs": [],
   "source": [
    "fig, ax1 = plt.subplots(figsize=(16,6))\n",
    "plt.title(r\"IMU Integrated Altitude\")\n",
    "plt.ylabel(r\"Altitdue AGL [km]\")\n",
    "plt.xlabel(r\"Mission Elapsed Time [s]\")\n",
    "plt.plot(time_decimated, divide(alt, 1000.0), alpha=0.7, label=\"Integrated Altitude\")\n",
    "plt.xlim([-4,70])\n",
    "#plt.ylim([-4,4])\n",
    "#ax1.legend(loc=1)\n",
    "plt.show()"
   ]
  },
  {
   "cell_type": "code",
   "execution_count": null,
   "metadata": {
    "collapsed": false
   },
   "outputs": [],
   "source": [
    "import locale\n",
    "locale.setlocale(locale.LC_ALL, '')\n",
    "\n",
    "altpeak = max(alt)\n",
    "print \"According to the IMU the apogee was %0.2f kilometers. And then we \\\"landed\\\" %s meters underground\" % (altpeak/1000.0, locale.format(\"%0.0f\", -alt[-1], grouping=True))"
   ]
  },
  {
   "cell_type": "markdown",
   "metadata": {},
   "source": []
  }
 ],
 "metadata": {
  "kernelspec": {
   "display_name": "Python 2",
   "language": "python",
   "name": "python2"
  },
  "language_info": {
   "codemirror_mode": {
    "name": "ipython",
    "version": 2
   },
   "file_extension": ".py",
   "mimetype": "text/x-python",
   "name": "python",
   "nbconvert_exporter": "python",
   "pygments_lexer": "ipython2",
   "version": "2.7.10+"
  }
 },
 "nbformat": 4,
 "nbformat_minor": 0
}
